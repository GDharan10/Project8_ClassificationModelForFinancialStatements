{
  "nbformat": 4,
  "nbformat_minor": 0,
  "metadata": {
    "colab": {
      "provenance": [],
      "toc_visible": true,
      "mount_file_id": "1weVWxMAZYzwvcBsODcvgMJvgOU_4Z9Jd",
      "authorship_tag": "ABX9TyMU5z+hGUsy/ad3wUrZmd0v",
      "include_colab_link": true
    },
    "kernelspec": {
      "name": "python3",
      "display_name": "Python 3"
    },
    "language_info": {
      "name": "python"
    }
  },
  "cells": [
    {
      "cell_type": "markdown",
      "metadata": {
        "id": "view-in-github",
        "colab_type": "text"
      },
      "source": [
        "<a href=\"https://colab.research.google.com/github/GDharan10/Project8_ClassificationModelForFinancialStatements/blob/main/Classification_Model_For_Financial_Statementsipynb.ipynb\" target=\"_parent\"><img src=\"https://colab.research.google.com/assets/colab-badge.svg\" alt=\"Open In Colab\"/></a>"
      ]
    },
    {
      "cell_type": "code",
      "source": [
        "pip install lazypredict"
      ],
      "metadata": {
        "colab": {
          "base_uri": "https://localhost:8080/"
        },
        "id": "ohSxbo07wH-l",
        "outputId": "99b59972-b5e5-4bb9-f272-d18d7ae5baac"
      },
      "execution_count": 78,
      "outputs": [
        {
          "output_type": "stream",
          "name": "stdout",
          "text": [
            "Collecting lazypredict\n",
            "  Downloading lazypredict-0.2.12-py2.py3-none-any.whl (12 kB)\n",
            "Requirement already satisfied: click in /usr/local/lib/python3.10/dist-packages (from lazypredict) (8.1.7)\n",
            "Requirement already satisfied: scikit-learn in /usr/local/lib/python3.10/dist-packages (from lazypredict) (1.2.2)\n",
            "Requirement already satisfied: pandas in /usr/local/lib/python3.10/dist-packages (from lazypredict) (2.0.3)\n",
            "Requirement already satisfied: tqdm in /usr/local/lib/python3.10/dist-packages (from lazypredict) (4.66.4)\n",
            "Requirement already satisfied: joblib in /usr/local/lib/python3.10/dist-packages (from lazypredict) (1.4.2)\n",
            "Requirement already satisfied: lightgbm in /usr/local/lib/python3.10/dist-packages (from lazypredict) (4.1.0)\n",
            "Requirement already satisfied: xgboost in /usr/local/lib/python3.10/dist-packages (from lazypredict) (2.0.3)\n",
            "Requirement already satisfied: numpy in /usr/local/lib/python3.10/dist-packages (from lightgbm->lazypredict) (1.25.2)\n",
            "Requirement already satisfied: scipy in /usr/local/lib/python3.10/dist-packages (from lightgbm->lazypredict) (1.11.4)\n",
            "Requirement already satisfied: python-dateutil>=2.8.2 in /usr/local/lib/python3.10/dist-packages (from pandas->lazypredict) (2.8.2)\n",
            "Requirement already satisfied: pytz>=2020.1 in /usr/local/lib/python3.10/dist-packages (from pandas->lazypredict) (2023.4)\n",
            "Requirement already satisfied: tzdata>=2022.1 in /usr/local/lib/python3.10/dist-packages (from pandas->lazypredict) (2024.1)\n",
            "Requirement already satisfied: threadpoolctl>=2.0.0 in /usr/local/lib/python3.10/dist-packages (from scikit-learn->lazypredict) (3.5.0)\n",
            "Requirement already satisfied: six>=1.5 in /usr/local/lib/python3.10/dist-packages (from python-dateutil>=2.8.2->pandas->lazypredict) (1.16.0)\n",
            "Installing collected packages: lazypredict\n",
            "Successfully installed lazypredict-0.2.12\n"
          ]
        }
      ]
    },
    {
      "cell_type": "markdown",
      "source": [
        "# **Libraries**"
      ],
      "metadata": {
        "id": "Knk80a-4w3h4"
      }
    },
    {
      "cell_type": "code",
      "execution_count": 82,
      "metadata": {
        "id": "fnYJuTBwWAY3"
      },
      "outputs": [],
      "source": [
        "import os\n",
        "import pandas as pd\n",
        "import re\n",
        "import nltk\n",
        "from nltk.corpus import stopwords\n",
        "from nltk.tokenize import word_tokenize\n",
        "from nltk.stem import PorterStemmer\n",
        "from sklearn.feature_extraction.text import TfidfVectorizer\n",
        "from sklearn.model_selection import train_test_split\n",
        "from sklearn.preprocessing import LabelEncoder\n",
        "from lazypredict.Supervised import LazyClassifier\n",
        "from sklearn.metrics import accuracy_score, precision_score, recall_score, confusion_matrix,\\\n",
        "ConfusionMatrixDisplay, classification_report\n"
      ]
    },
    {
      "cell_type": "code",
      "source": [
        "from google.colab import drive\n",
        "drive.mount('/content/drive')"
      ],
      "metadata": {
        "colab": {
          "base_uri": "https://localhost:8080/"
        },
        "id": "XglsRIiVWNNu",
        "outputId": "33616b96-69d7-4b12-854a-c13d7216879e"
      },
      "execution_count": 3,
      "outputs": [
        {
          "output_type": "stream",
          "name": "stdout",
          "text": [
            "Mounted at /content/drive\n"
          ]
        }
      ]
    },
    {
      "cell_type": "markdown",
      "source": [
        "# **Data collection**"
      ],
      "metadata": {
        "id": "G_Cjf975w8_o"
      }
    },
    {
      "cell_type": "code",
      "source": [
        "# Function to clean text\n",
        "def clean_text(text):\n",
        "    # Remove non-alphanumeric characters, except spaces\n",
        "    text = re.sub(r'[^a-zA-Z\\s]', '', text)\n",
        "    # Remove lowercase letters if they appear separately\n",
        "    text = re.sub(r'\\b[a-z]\\b', '', text)\n",
        "    # Remove uppercase letters if they appear separately\n",
        "    text = re.sub(r'\\b[A-Z]\\b', '', text)\n",
        "    # Remove Roman numerals\n",
        "    roman_numerals = ['I', 'II', 'III', 'IV', 'V', 'VI', 'VII', 'IX', 'X', 'XIII', 'XIV', 'XV', 'XVI', 'XVII',\n",
        "                      'XVIII', 'XIX', 'XX', 'XXI', 'XXII', 'XXIII', 'XXIV', 'XXV', 'XXVI', 'i', 'ii', 'iii',\n",
        "                      'iv', 'v', 'vi']\n",
        "    for numeral in roman_numerals:\n",
        "        text = re.sub(r'\\b{}\\b'.format(numeral), '', text)\n",
        "    # Remove extra spaces\n",
        "    cleaned_text = re.sub(r'\\s+', ' ', text)\n",
        "    return cleaned_text.strip()"
      ],
      "metadata": {
        "id": "Cx43FWON5mjV"
      },
      "execution_count": 38,
      "outputs": []
    },
    {
      "cell_type": "code",
      "source": [
        "# Folder path containing HTML files\n",
        "folder_path = \"/content/drive/MyDrive/Task/FinacPlus/data/data/Balance Sheets\"\n",
        "\n",
        "# Initialize an empty list to store DataFrames\n",
        "dfs_list = []\n",
        "\n",
        "# Process each HTML file in the folder\n",
        "for filename in os.listdir(folder_path):\n",
        "    if filename.endswith(\".html\"):\n",
        "        file_path = os.path.join(folder_path, filename)\n",
        "        # Read HTML tables into a list of DataFrame objects\n",
        "        dfs = pd.read_html(file_path)\n",
        "        # Assuming the desired table is the first one\n",
        "        table_df = dfs[0]\n",
        "        # Extract text from the first two columns of the first table\n",
        "        extracted_text = ' '.join(str(cell) for cell in table_df.iloc[:, :2].values.flatten() if pd.notnull(cell))\n",
        "        # Clean the extracted text\n",
        "        cleaned_text = clean_text(extracted_text)\n",
        "        # Create a DataFrame with cleaned text and document name\n",
        "        df = pd.DataFrame({'Extracted_text': [cleaned_text], 'document_name': \"Balance Sheets\"})\n",
        "        # Append the DataFrame to the list\n",
        "        dfs_list.append(df)\n",
        "\n",
        "# Concatenate all DataFrames in the list into a single DataFrame\n",
        "BalanceSheets_df = pd.concat(dfs_list, ignore_index=True)\n",
        "\n",
        "# Display the final DataFrame\n",
        "print(BalanceSheets_df)\n"
      ],
      "metadata": {
        "colab": {
          "base_uri": "https://localhost:8080/"
        },
        "id": "HJDxxNd3bAMc",
        "outputId": "e6223894-af2a-42f6-c0ee-2bb988cbc455"
      },
      "execution_count": 39,
      "outputs": [
        {
          "output_type": "stream",
          "name": "stdout",
          "text": [
            "                                        Extracted_text   document_name\n",
            "0    SI Particulars No No ASSETS NonCurrent Assets ...  Balance Sheets\n",
            "1    STANDALONE March Particulars Audited ASSETS No...  Balance Sheets\n",
            "2    GRINDWELL NORTON LIMITED Statement of Standalo...  Balance Sheets\n",
            "3    ASSETS NonCurrent Assets Property Plant and Eq...  Balance Sheets\n",
            "4    SIGNED FOR IDENTIFICATIO CD CD SRBCCO LLP SRBC...  Balance Sheets\n",
            "..                                                 ...             ...\n",
            "265  AUDITED CONSOLIDATED STATEMENT OF ASSETS AND L...  Balance Sheets\n",
            "266  Notes to standalone ml AS financial results fo...  Balance Sheets\n",
            "267  Sr No Particulars ASSETS NonCurrent Assets Pro...  Balance Sheets\n",
            "268  Particulars Particulars ASSETS Noncurrent asse...  Balance Sheets\n",
            "269  Sr No Particulars Assets NonCurrent Assets Pro...  Balance Sheets\n",
            "\n",
            "[270 rows x 2 columns]\n"
          ]
        }
      ]
    },
    {
      "cell_type": "code",
      "source": [
        "# Define the folder path\n",
        "folder_path = \"/content/drive/MyDrive/Task/FinacPlus/data/data/Cash Flow\"\n",
        "\n",
        "# Initialize an empty list to store DataFrames\n",
        "dfs_list = []\n",
        "\n",
        "# Process each HTML file in the folder\n",
        "for filename in os.listdir(folder_path):\n",
        "    if filename.endswith(\".html\"):\n",
        "        # Read HTML file into a DataFrame\n",
        "        table_df = pd.read_html(os.path.join(folder_path, filename))[0]\n",
        "\n",
        "        # Extract text from the first two columns of the first table\n",
        "        extracted_text = ' '.join(str(cell) for cell in table_df.iloc[:, :2].values.flatten() if pd.notnull(cell))\n",
        "\n",
        "        # Clean the extracted text\n",
        "        cleaned_text = clean_text(extracted_text)\n",
        "\n",
        "        # Create a DataFrame with the extracted text and document name\n",
        "        new_df = pd.DataFrame({'Extracted_text': [cleaned_text], 'document_name': \"CashFlow\"})\n",
        "\n",
        "        # Append the DataFrame to the list\n",
        "        dfs_list.append(new_df)\n",
        "\n",
        "# Concatenate all DataFrames in the list into a single DataFrame\n",
        "CashFlow_df = pd.concat(dfs_list, ignore_index=True)\n",
        "\n",
        "# Display the final DataFrame\n",
        "print(CashFlow_df)"
      ],
      "metadata": {
        "colab": {
          "base_uri": "https://localhost:8080/"
        },
        "id": "d599SrypWcHw",
        "outputId": "26d76c39-0444-47f7-d02f-00ceadb54463"
      },
      "execution_count": 40,
      "outputs": [
        {
          "output_type": "stream",
          "name": "stdout",
          "text": [
            "                                       Extracted_text document_name\n",
            "0   PARTICULARS As on Net profit before tax ADD De...      CashFlow\n",
            "1   Cash flows from financing activities Decrease ...      CashFlow\n",
            "2   Year ended st March CASH FLOW FROM OPERATING A...      CashFlow\n",
            "3   DESCRIPTION DESCRIPTION Cash Inflow Outflow Fr...      CashFlow\n",
            "4   INR in Crores Particulars For the year ended M...      CashFlow\n",
            "5   Particulars Particulars Cash Flow from Operati...      CashFlow\n",
            "6   Cash flow from operating activities Profit bef...      CashFlow\n",
            "7   CASH FLOW FROM OPERATING ACTIVITIES Net Profit...      CashFlow\n",
            "8   Cash Flow from Operating Activities Net Profit...      CashFlow\n",
            "9   Particulars Year ended December Cash flow From...      CashFlow\n",
            "10  Particulars Cash Flow from operating activitie...      CashFlow\n",
            "11  As at December CASH FLOW FROM FINANCING ACTIVI...      CashFlow\n",
            "12  CASH FLOW FROM INVESTING ACTIVITIES CASH FLOW ...      CashFlow\n",
            "13  Year ended st March CASH FLOW FROM FINANCING A...      CashFlow\n",
            "14  Cash flow from financing activities Proceeds f...      CashFlow\n",
            "15  Particulars Year ended December Bank balances ...      CashFlow\n",
            "16  Particulars Year ended December Cash flow from...      CashFlow\n",
            "17  CASH FLOW FROM OPERATING ACTIVITIES CASH FLOW ...      CashFlow\n",
            "18  For the year ended st December For the year en...      CashFlow\n",
            "19  Particulars Year ended December Bank balances ...      CashFlow\n",
            "20  Particulars Cash Flow from operating activitie...      CashFlow\n",
            "21  CASH FLOW STATEMENT FOR THE YEAR ENDED ST MARC...      CashFlow\n",
            "22  December INR in Lacs Cash Flow from Financing ...      CashFlow\n",
            "23  Year ended December CASH FLOW FROM OPERATING A...      CashFlow\n",
            "24  Cash flow from financing activities Proceeds f...      CashFlow\n",
            "25  CASH FLOW FROM OPERATING ACTIVITIES Profit bef...      CashFlow\n",
            "26  Year ended December CASH FLOW FROM OPERATING A...      CashFlow\n",
            "27  Particulars Year ended December Cash flow from...      CashFlow\n",
            "28  Particulars Quarter Ended Particulars Mar Cash...      CashFlow\n",
            "29  Particulars Particulars Cash flow from operati...      CashFlow\n",
            "30  Cash flows from operating activities Cash flow...      CashFlow\n",
            "31  Notes Notes CASH FLOW FROM OPERATING ACTIVITIE...      CashFlow\n",
            "32  Deposits with banks having maturities less tha...      CashFlow\n",
            "33  Particulars For the year ended December Rupees...      CashFlow\n",
            "34  Particulars CASH FLOW FROM OPERATING ACTIVITIE...      CashFlow\n",
            "35  Particulars Year ended st March CASH FLOW FROM...      CashFlow\n"
          ]
        }
      ]
    },
    {
      "cell_type": "code",
      "source": [
        "# Folder path\n",
        "folder_path = \"/content/drive/MyDrive/Task/FinacPlus/data/data/Income Statement\"\n",
        "\n",
        "# Initialize an empty list to store dataframes\n",
        "dfs = []\n",
        "\n",
        "# Iterate over all files in the folder\n",
        "for filename in os.listdir(folder_path):\n",
        "    # Check if the file is an HTML file\n",
        "    if filename.endswith(\".html\"):\n",
        "        # Read HTML file into a DataFrame\n",
        "        table_df = pd.read_html(os.path.join(folder_path, filename))[0]\n",
        "\n",
        "        # Extract text from the first two columns of the first table\n",
        "        extracted_text = ' '.join(str(cell) for cell in table_df.iloc[:, :2].values.flatten() if pd.notnull(cell))\n",
        "\n",
        "        # Clean the extracted text\n",
        "        cleaned_text = clean_text(extracted_text)\n",
        "\n",
        "        # Create a new DataFrame\n",
        "        new_df = pd.DataFrame({'Extracted_text': [cleaned_text], 'document_name': \"Income Statement\"})\n",
        "\n",
        "        # Append the new DataFrame to the list\n",
        "        dfs.append(new_df)\n",
        "\n",
        "# Concatenate all DataFrames in the list\n",
        "IncomeStatement_df = pd.concat(dfs, ignore_index=True)\n",
        "\n",
        "# Display the final DataFrame\n",
        "print(IncomeStatement_df)"
      ],
      "metadata": {
        "colab": {
          "base_uri": "https://localhost:8080/"
        },
        "id": "nk99r8JN_EoC",
        "outputId": "1c01c435-aa3a-413a-af06-abcc1d8145aa"
      },
      "execution_count": 41,
      "outputs": [
        {
          "output_type": "stream",
          "name": "stdout",
          "text": [
            "                                        Extracted_text     document_name\n",
            "0    Particulars Income Revenue from Operations Oth...  Income Statement\n",
            "1    Sr Particular No Income Revenue from operation...  Income Statement\n",
            "2    Particulars Income Income from operations refe...  Income Statement\n",
            "3    QUvfttr muled Particulars wined Rrrfi Income R...  Income Statement\n",
            "4    Particulars Audited Particulars Consolidated R...  Income Statement\n",
            "..                                                 ...               ...\n",
            "300  SI Particulars No Particulars Revenue from ope...  Income Statement\n",
            "301  KPlT Technologies Limited Registered Corporate...  Income Statement\n",
            "302  Finolex Cables Limited Registered Office Mumba...  Income Statement\n",
            "303  QFV Revenue Established Service Areas Revenue ...  Income Statement\n",
            "304  Hi Hn Hi Hn member of member of Registered Off...  Income Statement\n",
            "\n",
            "[305 rows x 2 columns]\n"
          ]
        }
      ]
    },
    {
      "cell_type": "code",
      "source": [
        "# Define the folder path\n",
        "folder_path = \"/content/drive/MyDrive/Task/FinacPlus/data/data/Notes\"\n",
        "\n",
        "# Initialize an empty list to store DataFrames\n",
        "dfs_list = []\n",
        "\n",
        "# Process each HTML file in the folder\n",
        "for filename in os.listdir(folder_path):\n",
        "    if filename.endswith(\".html\"):\n",
        "        # Read HTML file into a DataFrame\n",
        "        table_df = pd.read_html(os.path.join(folder_path, filename))[0]\n",
        "\n",
        "        # Extract text from the first two columns of the first table\n",
        "        extracted_text = ' '.join(str(cell) for cell in table_df.iloc[:, :2].values.flatten() if pd.notnull(cell))\n",
        "\n",
        "        # Clean the extracted text\n",
        "        cleaned_text = clean_text(extracted_text)\n",
        "\n",
        "        # Create a DataFrame with the extracted text and document name\n",
        "        new_df = pd.DataFrame({'Extracted_text': [cleaned_text], 'document_name': \"Notes\"})\n",
        "\n",
        "        # Append the DataFrame to the list\n",
        "        dfs_list.append(new_df)\n",
        "\n",
        "# Concatenate all DataFrames in the list into a single DataFrame\n",
        "Notes_df = pd.concat(dfs_list, ignore_index=True)\n",
        "\n",
        "# Display the final DataFrame\n",
        "print(Notes_df)"
      ],
      "metadata": {
        "colab": {
          "base_uri": "https://localhost:8080/"
        },
        "id": "QadjGLOcCj_I",
        "outputId": "3a2628b8-37ea-47e3-9a3d-69c07da1e866"
      },
      "execution_count": 42,
      "outputs": [
        {
          "output_type": "stream",
          "name": "stdout",
          "text": [
            "                                        Extracted_text document_name\n",
            "0    Particulars Year ended December Balance at beg...         Notes\n",
            "1    As at st March Salaries wages bonus and other ...         Notes\n",
            "2    in Crores in Crores Refer Note Financial liabi...         Notes\n",
            "3    As at Rs Ps Profit After Tax Cr Weighted Avera...         Notes\n",
            "4    No Particulars No Particulars RESERVES AND SUR...         Notes\n",
            "..                                                 ...           ...\n",
            "685  Freehold land Cost Cost At April Addition on a...         Notes\n",
            "686  December INR in Lacs Excise duty on sale of goods         Notes\n",
            "687  Particulars December Profit for the year Rs in...         Notes\n",
            "688  NOTE OTHER FINANCIAL ASSETS LONG TERM NONCURRE...         Notes\n",
            "689  Cash and cash equivalents Cash and cash equiva...         Notes\n",
            "\n",
            "[690 rows x 2 columns]\n"
          ]
        }
      ]
    },
    {
      "cell_type": "code",
      "source": [
        "# Define the folder path\n",
        "folder_path = \"/content/drive/MyDrive/Task/FinacPlus/data/data/Others\"\n",
        "\n",
        "# Initialize an empty list to store DataFrames\n",
        "dfs_list = []\n",
        "\n",
        "# Process each HTML file in the folder\n",
        "for filename in os.listdir(folder_path):\n",
        "    if filename.endswith(\".html\"):\n",
        "        # Read HTML file into a DataFrame\n",
        "        table_df = pd.read_html(os.path.join(folder_path, filename))[0]\n",
        "\n",
        "        # Extract text from the first two columns of the first table\n",
        "        extracted_text = ' '.join(str(cell) for cell in table_df.iloc[:, :2].values.flatten() if pd.notnull(cell))\n",
        "\n",
        "        # Clean the extracted text\n",
        "        cleaned_text = clean_text(extracted_text)\n",
        "\n",
        "        # Create a DataFrame with the extracted text and document name\n",
        "        new_df = pd.DataFrame({'Extracted_text': [cleaned_text], 'document_name': \"Others\"})\n",
        "\n",
        "        # Append the DataFrame to the list\n",
        "        dfs_list.append(new_df)\n",
        "\n",
        "# Concatenate all DataFrames in the list into a single DataFrame\n",
        "Others_df = pd.concat(dfs_list, ignore_index=True)\n",
        "\n",
        "# Display the final DataFrame\n",
        "print(Others_df)"
      ],
      "metadata": {
        "colab": {
          "base_uri": "https://localhost:8080/"
        },
        "id": "t2tKjVaNXIcj",
        "outputId": "d2776a93-2693-4529-b424-37fad4757549"
      },
      "execution_count": 43,
      "outputs": [
        {
          "output_type": "stream",
          "name": "stdout",
          "text": [
            "                                         Extracted_text document_name\n",
            "0     Consolidated Results Consolidated Results Year...        Others\n",
            "1                                            QFY QFY RS        Others\n",
            "2     Audit Qualification each audit qualification s...        Others\n",
            "3     The consolidated financial results of Edelweis...        Others\n",
            "4     Subsidiaries Subsidiaries Wipro LLC Wipro Gall...        Others\n",
            "...                                                 ...           ...\n",
            "1219  Exceptional Items continuing operations Amount...        Others\n",
            "1220  Particulars Quarter ended Particulars Revenue ...        Others\n",
            "1221  yL Firms Registration Number Rajiv Singhi Part...        Others\n",
            "1222    Symbol Typeof security BSE Equity NSE GRINDWELL        Others\n",
            "1223  Quarter Ended Particulars Mar Total revenues E...        Others\n",
            "\n",
            "[1224 rows x 2 columns]\n"
          ]
        }
      ]
    },
    {
      "cell_type": "code",
      "source": [
        "df = pd.concat([BalanceSheets_df, CashFlow_df, IncomeStatement_df, Notes_df, Others_df], ignore_index=True)\n",
        "df"
      ],
      "metadata": {
        "colab": {
          "base_uri": "https://localhost:8080/",
          "height": 424
        },
        "id": "4O_uAj1rXcRp",
        "outputId": "79541b27-c404-477f-ced9-80c360d3beec"
      },
      "execution_count": 44,
      "outputs": [
        {
          "output_type": "execute_result",
          "data": {
            "text/plain": [
              "                                         Extracted_text   document_name\n",
              "0     SI Particulars No No ASSETS NonCurrent Assets ...  Balance Sheets\n",
              "1     STANDALONE March Particulars Audited ASSETS No...  Balance Sheets\n",
              "2     GRINDWELL NORTON LIMITED Statement of Standalo...  Balance Sheets\n",
              "3     ASSETS NonCurrent Assets Property Plant and Eq...  Balance Sheets\n",
              "4     SIGNED FOR IDENTIFICATIO CD CD SRBCCO LLP SRBC...  Balance Sheets\n",
              "...                                                 ...             ...\n",
              "2520  Exceptional Items continuing operations Amount...          Others\n",
              "2521  Particulars Quarter ended Particulars Revenue ...          Others\n",
              "2522  yL Firms Registration Number Rajiv Singhi Part...          Others\n",
              "2523    Symbol Typeof security BSE Equity NSE GRINDWELL          Others\n",
              "2524  Quarter Ended Particulars Mar Total revenues E...          Others\n",
              "\n",
              "[2525 rows x 2 columns]"
            ],
            "text/html": [
              "\n",
              "  <div id=\"df-637733e1-d537-4428-a51f-0c47f895e70a\" class=\"colab-df-container\">\n",
              "    <div>\n",
              "<style scoped>\n",
              "    .dataframe tbody tr th:only-of-type {\n",
              "        vertical-align: middle;\n",
              "    }\n",
              "\n",
              "    .dataframe tbody tr th {\n",
              "        vertical-align: top;\n",
              "    }\n",
              "\n",
              "    .dataframe thead th {\n",
              "        text-align: right;\n",
              "    }\n",
              "</style>\n",
              "<table border=\"1\" class=\"dataframe\">\n",
              "  <thead>\n",
              "    <tr style=\"text-align: right;\">\n",
              "      <th></th>\n",
              "      <th>Extracted_text</th>\n",
              "      <th>document_name</th>\n",
              "    </tr>\n",
              "  </thead>\n",
              "  <tbody>\n",
              "    <tr>\n",
              "      <th>0</th>\n",
              "      <td>SI Particulars No No ASSETS NonCurrent Assets ...</td>\n",
              "      <td>Balance Sheets</td>\n",
              "    </tr>\n",
              "    <tr>\n",
              "      <th>1</th>\n",
              "      <td>STANDALONE March Particulars Audited ASSETS No...</td>\n",
              "      <td>Balance Sheets</td>\n",
              "    </tr>\n",
              "    <tr>\n",
              "      <th>2</th>\n",
              "      <td>GRINDWELL NORTON LIMITED Statement of Standalo...</td>\n",
              "      <td>Balance Sheets</td>\n",
              "    </tr>\n",
              "    <tr>\n",
              "      <th>3</th>\n",
              "      <td>ASSETS NonCurrent Assets Property Plant and Eq...</td>\n",
              "      <td>Balance Sheets</td>\n",
              "    </tr>\n",
              "    <tr>\n",
              "      <th>4</th>\n",
              "      <td>SIGNED FOR IDENTIFICATIO CD CD SRBCCO LLP SRBC...</td>\n",
              "      <td>Balance Sheets</td>\n",
              "    </tr>\n",
              "    <tr>\n",
              "      <th>...</th>\n",
              "      <td>...</td>\n",
              "      <td>...</td>\n",
              "    </tr>\n",
              "    <tr>\n",
              "      <th>2520</th>\n",
              "      <td>Exceptional Items continuing operations Amount...</td>\n",
              "      <td>Others</td>\n",
              "    </tr>\n",
              "    <tr>\n",
              "      <th>2521</th>\n",
              "      <td>Particulars Quarter ended Particulars Revenue ...</td>\n",
              "      <td>Others</td>\n",
              "    </tr>\n",
              "    <tr>\n",
              "      <th>2522</th>\n",
              "      <td>yL Firms Registration Number Rajiv Singhi Part...</td>\n",
              "      <td>Others</td>\n",
              "    </tr>\n",
              "    <tr>\n",
              "      <th>2523</th>\n",
              "      <td>Symbol Typeof security BSE Equity NSE GRINDWELL</td>\n",
              "      <td>Others</td>\n",
              "    </tr>\n",
              "    <tr>\n",
              "      <th>2524</th>\n",
              "      <td>Quarter Ended Particulars Mar Total revenues E...</td>\n",
              "      <td>Others</td>\n",
              "    </tr>\n",
              "  </tbody>\n",
              "</table>\n",
              "<p>2525 rows × 2 columns</p>\n",
              "</div>\n",
              "    <div class=\"colab-df-buttons\">\n",
              "\n",
              "  <div class=\"colab-df-container\">\n",
              "    <button class=\"colab-df-convert\" onclick=\"convertToInteractive('df-637733e1-d537-4428-a51f-0c47f895e70a')\"\n",
              "            title=\"Convert this dataframe to an interactive table.\"\n",
              "            style=\"display:none;\">\n",
              "\n",
              "  <svg xmlns=\"http://www.w3.org/2000/svg\" height=\"24px\" viewBox=\"0 -960 960 960\">\n",
              "    <path d=\"M120-120v-720h720v720H120Zm60-500h600v-160H180v160Zm220 220h160v-160H400v160Zm0 220h160v-160H400v160ZM180-400h160v-160H180v160Zm440 0h160v-160H620v160ZM180-180h160v-160H180v160Zm440 0h160v-160H620v160Z\"/>\n",
              "  </svg>\n",
              "    </button>\n",
              "\n",
              "  <style>\n",
              "    .colab-df-container {\n",
              "      display:flex;\n",
              "      gap: 12px;\n",
              "    }\n",
              "\n",
              "    .colab-df-convert {\n",
              "      background-color: #E8F0FE;\n",
              "      border: none;\n",
              "      border-radius: 50%;\n",
              "      cursor: pointer;\n",
              "      display: none;\n",
              "      fill: #1967D2;\n",
              "      height: 32px;\n",
              "      padding: 0 0 0 0;\n",
              "      width: 32px;\n",
              "    }\n",
              "\n",
              "    .colab-df-convert:hover {\n",
              "      background-color: #E2EBFA;\n",
              "      box-shadow: 0px 1px 2px rgba(60, 64, 67, 0.3), 0px 1px 3px 1px rgba(60, 64, 67, 0.15);\n",
              "      fill: #174EA6;\n",
              "    }\n",
              "\n",
              "    .colab-df-buttons div {\n",
              "      margin-bottom: 4px;\n",
              "    }\n",
              "\n",
              "    [theme=dark] .colab-df-convert {\n",
              "      background-color: #3B4455;\n",
              "      fill: #D2E3FC;\n",
              "    }\n",
              "\n",
              "    [theme=dark] .colab-df-convert:hover {\n",
              "      background-color: #434B5C;\n",
              "      box-shadow: 0px 1px 3px 1px rgba(0, 0, 0, 0.15);\n",
              "      filter: drop-shadow(0px 1px 2px rgba(0, 0, 0, 0.3));\n",
              "      fill: #FFFFFF;\n",
              "    }\n",
              "  </style>\n",
              "\n",
              "    <script>\n",
              "      const buttonEl =\n",
              "        document.querySelector('#df-637733e1-d537-4428-a51f-0c47f895e70a button.colab-df-convert');\n",
              "      buttonEl.style.display =\n",
              "        google.colab.kernel.accessAllowed ? 'block' : 'none';\n",
              "\n",
              "      async function convertToInteractive(key) {\n",
              "        const element = document.querySelector('#df-637733e1-d537-4428-a51f-0c47f895e70a');\n",
              "        const dataTable =\n",
              "          await google.colab.kernel.invokeFunction('convertToInteractive',\n",
              "                                                    [key], {});\n",
              "        if (!dataTable) return;\n",
              "\n",
              "        const docLinkHtml = 'Like what you see? Visit the ' +\n",
              "          '<a target=\"_blank\" href=https://colab.research.google.com/notebooks/data_table.ipynb>data table notebook</a>'\n",
              "          + ' to learn more about interactive tables.';\n",
              "        element.innerHTML = '';\n",
              "        dataTable['output_type'] = 'display_data';\n",
              "        await google.colab.output.renderOutput(dataTable, element);\n",
              "        const docLink = document.createElement('div');\n",
              "        docLink.innerHTML = docLinkHtml;\n",
              "        element.appendChild(docLink);\n",
              "      }\n",
              "    </script>\n",
              "  </div>\n",
              "\n",
              "\n",
              "<div id=\"df-56ceb3d4-be4d-44bd-9c73-20d6de4c6e87\">\n",
              "  <button class=\"colab-df-quickchart\" onclick=\"quickchart('df-56ceb3d4-be4d-44bd-9c73-20d6de4c6e87')\"\n",
              "            title=\"Suggest charts\"\n",
              "            style=\"display:none;\">\n",
              "\n",
              "<svg xmlns=\"http://www.w3.org/2000/svg\" height=\"24px\"viewBox=\"0 0 24 24\"\n",
              "     width=\"24px\">\n",
              "    <g>\n",
              "        <path d=\"M19 3H5c-1.1 0-2 .9-2 2v14c0 1.1.9 2 2 2h14c1.1 0 2-.9 2-2V5c0-1.1-.9-2-2-2zM9 17H7v-7h2v7zm4 0h-2V7h2v10zm4 0h-2v-4h2v4z\"/>\n",
              "    </g>\n",
              "</svg>\n",
              "  </button>\n",
              "\n",
              "<style>\n",
              "  .colab-df-quickchart {\n",
              "      --bg-color: #E8F0FE;\n",
              "      --fill-color: #1967D2;\n",
              "      --hover-bg-color: #E2EBFA;\n",
              "      --hover-fill-color: #174EA6;\n",
              "      --disabled-fill-color: #AAA;\n",
              "      --disabled-bg-color: #DDD;\n",
              "  }\n",
              "\n",
              "  [theme=dark] .colab-df-quickchart {\n",
              "      --bg-color: #3B4455;\n",
              "      --fill-color: #D2E3FC;\n",
              "      --hover-bg-color: #434B5C;\n",
              "      --hover-fill-color: #FFFFFF;\n",
              "      --disabled-bg-color: #3B4455;\n",
              "      --disabled-fill-color: #666;\n",
              "  }\n",
              "\n",
              "  .colab-df-quickchart {\n",
              "    background-color: var(--bg-color);\n",
              "    border: none;\n",
              "    border-radius: 50%;\n",
              "    cursor: pointer;\n",
              "    display: none;\n",
              "    fill: var(--fill-color);\n",
              "    height: 32px;\n",
              "    padding: 0;\n",
              "    width: 32px;\n",
              "  }\n",
              "\n",
              "  .colab-df-quickchart:hover {\n",
              "    background-color: var(--hover-bg-color);\n",
              "    box-shadow: 0 1px 2px rgba(60, 64, 67, 0.3), 0 1px 3px 1px rgba(60, 64, 67, 0.15);\n",
              "    fill: var(--button-hover-fill-color);\n",
              "  }\n",
              "\n",
              "  .colab-df-quickchart-complete:disabled,\n",
              "  .colab-df-quickchart-complete:disabled:hover {\n",
              "    background-color: var(--disabled-bg-color);\n",
              "    fill: var(--disabled-fill-color);\n",
              "    box-shadow: none;\n",
              "  }\n",
              "\n",
              "  .colab-df-spinner {\n",
              "    border: 2px solid var(--fill-color);\n",
              "    border-color: transparent;\n",
              "    border-bottom-color: var(--fill-color);\n",
              "    animation:\n",
              "      spin 1s steps(1) infinite;\n",
              "  }\n",
              "\n",
              "  @keyframes spin {\n",
              "    0% {\n",
              "      border-color: transparent;\n",
              "      border-bottom-color: var(--fill-color);\n",
              "      border-left-color: var(--fill-color);\n",
              "    }\n",
              "    20% {\n",
              "      border-color: transparent;\n",
              "      border-left-color: var(--fill-color);\n",
              "      border-top-color: var(--fill-color);\n",
              "    }\n",
              "    30% {\n",
              "      border-color: transparent;\n",
              "      border-left-color: var(--fill-color);\n",
              "      border-top-color: var(--fill-color);\n",
              "      border-right-color: var(--fill-color);\n",
              "    }\n",
              "    40% {\n",
              "      border-color: transparent;\n",
              "      border-right-color: var(--fill-color);\n",
              "      border-top-color: var(--fill-color);\n",
              "    }\n",
              "    60% {\n",
              "      border-color: transparent;\n",
              "      border-right-color: var(--fill-color);\n",
              "    }\n",
              "    80% {\n",
              "      border-color: transparent;\n",
              "      border-right-color: var(--fill-color);\n",
              "      border-bottom-color: var(--fill-color);\n",
              "    }\n",
              "    90% {\n",
              "      border-color: transparent;\n",
              "      border-bottom-color: var(--fill-color);\n",
              "    }\n",
              "  }\n",
              "</style>\n",
              "\n",
              "  <script>\n",
              "    async function quickchart(key) {\n",
              "      const quickchartButtonEl =\n",
              "        document.querySelector('#' + key + ' button');\n",
              "      quickchartButtonEl.disabled = true;  // To prevent multiple clicks.\n",
              "      quickchartButtonEl.classList.add('colab-df-spinner');\n",
              "      try {\n",
              "        const charts = await google.colab.kernel.invokeFunction(\n",
              "            'suggestCharts', [key], {});\n",
              "      } catch (error) {\n",
              "        console.error('Error during call to suggestCharts:', error);\n",
              "      }\n",
              "      quickchartButtonEl.classList.remove('colab-df-spinner');\n",
              "      quickchartButtonEl.classList.add('colab-df-quickchart-complete');\n",
              "    }\n",
              "    (() => {\n",
              "      let quickchartButtonEl =\n",
              "        document.querySelector('#df-56ceb3d4-be4d-44bd-9c73-20d6de4c6e87 button');\n",
              "      quickchartButtonEl.style.display =\n",
              "        google.colab.kernel.accessAllowed ? 'block' : 'none';\n",
              "    })();\n",
              "  </script>\n",
              "</div>\n",
              "\n",
              "  <div id=\"id_3858592d-cf4f-4556-a2f8-f5610dce51d7\">\n",
              "    <style>\n",
              "      .colab-df-generate {\n",
              "        background-color: #E8F0FE;\n",
              "        border: none;\n",
              "        border-radius: 50%;\n",
              "        cursor: pointer;\n",
              "        display: none;\n",
              "        fill: #1967D2;\n",
              "        height: 32px;\n",
              "        padding: 0 0 0 0;\n",
              "        width: 32px;\n",
              "      }\n",
              "\n",
              "      .colab-df-generate:hover {\n",
              "        background-color: #E2EBFA;\n",
              "        box-shadow: 0px 1px 2px rgba(60, 64, 67, 0.3), 0px 1px 3px 1px rgba(60, 64, 67, 0.15);\n",
              "        fill: #174EA6;\n",
              "      }\n",
              "\n",
              "      [theme=dark] .colab-df-generate {\n",
              "        background-color: #3B4455;\n",
              "        fill: #D2E3FC;\n",
              "      }\n",
              "\n",
              "      [theme=dark] .colab-df-generate:hover {\n",
              "        background-color: #434B5C;\n",
              "        box-shadow: 0px 1px 3px 1px rgba(0, 0, 0, 0.15);\n",
              "        filter: drop-shadow(0px 1px 2px rgba(0, 0, 0, 0.3));\n",
              "        fill: #FFFFFF;\n",
              "      }\n",
              "    </style>\n",
              "    <button class=\"colab-df-generate\" onclick=\"generateWithVariable('df')\"\n",
              "            title=\"Generate code using this dataframe.\"\n",
              "            style=\"display:none;\">\n",
              "\n",
              "  <svg xmlns=\"http://www.w3.org/2000/svg\" height=\"24px\"viewBox=\"0 0 24 24\"\n",
              "       width=\"24px\">\n",
              "    <path d=\"M7,19H8.4L18.45,9,17,7.55,7,17.6ZM5,21V16.75L18.45,3.32a2,2,0,0,1,2.83,0l1.4,1.43a1.91,1.91,0,0,1,.58,1.4,1.91,1.91,0,0,1-.58,1.4L9.25,21ZM18.45,9,17,7.55Zm-12,3A5.31,5.31,0,0,0,4.9,8.1,5.31,5.31,0,0,0,1,6.5,5.31,5.31,0,0,0,4.9,4.9,5.31,5.31,0,0,0,6.5,1,5.31,5.31,0,0,0,8.1,4.9,5.31,5.31,0,0,0,12,6.5,5.46,5.46,0,0,0,6.5,12Z\"/>\n",
              "  </svg>\n",
              "    </button>\n",
              "    <script>\n",
              "      (() => {\n",
              "      const buttonEl =\n",
              "        document.querySelector('#id_3858592d-cf4f-4556-a2f8-f5610dce51d7 button.colab-df-generate');\n",
              "      buttonEl.style.display =\n",
              "        google.colab.kernel.accessAllowed ? 'block' : 'none';\n",
              "\n",
              "      buttonEl.onclick = () => {\n",
              "        google.colab.notebook.generateWithVariable('df');\n",
              "      }\n",
              "      })();\n",
              "    </script>\n",
              "  </div>\n",
              "\n",
              "    </div>\n",
              "  </div>\n"
            ],
            "application/vnd.google.colaboratory.intrinsic+json": {
              "type": "dataframe",
              "variable_name": "df",
              "summary": "{\n  \"name\": \"df\",\n  \"rows\": 2525,\n  \"fields\": [\n    {\n      \"column\": \"Extracted_text\",\n      \"properties\": {\n        \"dtype\": \"string\",\n        \"num_unique_values\": 2412,\n        \"samples\": [\n          \"Particulars Particulars Particulars Particulars Particulars Particulars Incomefrom operations Excise duty Income from boeraltens lnet of excise duty\",\n          \"Particulars Three Months Ended Mar REVENUES Products Services BPO Services Total Revenues SEGMENT RESULTS Products Services BPO Services Total Unallocable expenses OPERATING INCOME Interest and other income net INCOME BEFORE PROVISION OF TAXES Provision for taxes NET INCOME Earnings per share of Rs each in Rs Basic Diluted\",\n          \"JINDAL HYDRO POWER LTD JINDAL POWER DISTRIBUTION LTD AMBITIOUS POWER TRADING COMPANY LIMITED JINDAL POWER TRANSMISSION LTD KAMALA HYDRO ELECTRIC POWER CO LTD KINETA POWER LTD UTTAM INFRALOGIX LTD PANTHER TRANSFRelGHT PVT LTD JINDAL BVI LTD JINDALBARBADOS HOLDINGS CORP JINDALBARBADOS MINING CORP JINDALBARBADOS ENERGY CORP MEEPONG RESOURCES MAURITIUSPTY LTD MEEPONG ENERGYMAURITIUSPTY LTD JINDAL ENERGY BAHAMAS JINDAL TRANSAFRICABARBADOS CORP MEEPONG RESOURCES PTY LTD MEEPONG ENERGY PTY LTD MEEPONG SERVICESPTY LTD MEEPONG WATERPTY LTD JINDAL RESOURCES BOTSWANA PTY LTD TRANS AFRICA RAILPTY LTD JINDAL ENERGY BOTSWANA PTY LTD OSHO MADAGASCAR SARL JINDAL MADAGASCAR SARL JINDAL TANZANIA LTD JINDAL MINING NAMIBIAPTY LTD JINDAL MAURITANIA SARL Jindal Reality Private Limited Group Raigarh Pathalgaon Expressway Limited Enviro Waste Gas Services Pty Ltd Jagran Developers Limited Joint Ventures Joint Ventures JINDAL SYNFUEL LIMITED URTAN NORTH MINING COMPANY LIMITED SHRESTHA MINING METALS PVT LTD Associates Associates PRODISYNEPTY LTD THUTHUKANI COALPTY LTD\"\n        ],\n        \"semantic_type\": \"\",\n        \"description\": \"\"\n      }\n    },\n    {\n      \"column\": \"document_name\",\n      \"properties\": {\n        \"dtype\": \"category\",\n        \"num_unique_values\": 5,\n        \"samples\": [\n          \"CashFlow\",\n          \"Others\",\n          \"Income Statement\"\n        ],\n        \"semantic_type\": \"\",\n        \"description\": \"\"\n      }\n    }\n  ]\n}"
            }
          },
          "metadata": {},
          "execution_count": 44
        }
      ]
    },
    {
      "cell_type": "markdown",
      "source": [
        "# **EDA (Exploratory Data Analysis)**"
      ],
      "metadata": {
        "id": "QLUzuLBvtF9X"
      }
    },
    {
      "cell_type": "code",
      "source": [
        "df.info()"
      ],
      "metadata": {
        "colab": {
          "base_uri": "https://localhost:8080/"
        },
        "id": "8qevWBbvX9Hb",
        "outputId": "db4fb21f-899b-4ce1-ea1f-fc78d4508713"
      },
      "execution_count": 10,
      "outputs": [
        {
          "output_type": "stream",
          "name": "stdout",
          "text": [
            "<class 'pandas.core.frame.DataFrame'>\n",
            "RangeIndex: 2525 entries, 0 to 2524\n",
            "Data columns (total 2 columns):\n",
            " #   Column          Non-Null Count  Dtype \n",
            "---  ------          --------------  ----- \n",
            " 0   Extracted_text  2525 non-null   object\n",
            " 1   document_name   2525 non-null   object\n",
            "dtypes: object(2)\n",
            "memory usage: 39.6+ KB\n"
          ]
        }
      ]
    },
    {
      "cell_type": "code",
      "source": [
        "df.describe().T"
      ],
      "metadata": {
        "colab": {
          "base_uri": "https://localhost:8080/",
          "height": 112
        },
        "id": "eR_Sp-PhX-oB",
        "outputId": "05191cb1-cc49-4937-ac45-f3cbd660d931"
      },
      "execution_count": 11,
      "outputs": [
        {
          "output_type": "execute_result",
          "data": {
            "text/plain": [
              "               count unique     top  freq\n",
              "Extracted_text  2525   2413            24\n",
              "document_name   2525      5  Others  1224"
            ],
            "text/html": [
              "\n",
              "  <div id=\"df-9d4d3422-6ec2-40c3-8877-6ff0c93fadc5\" class=\"colab-df-container\">\n",
              "    <div>\n",
              "<style scoped>\n",
              "    .dataframe tbody tr th:only-of-type {\n",
              "        vertical-align: middle;\n",
              "    }\n",
              "\n",
              "    .dataframe tbody tr th {\n",
              "        vertical-align: top;\n",
              "    }\n",
              "\n",
              "    .dataframe thead th {\n",
              "        text-align: right;\n",
              "    }\n",
              "</style>\n",
              "<table border=\"1\" class=\"dataframe\">\n",
              "  <thead>\n",
              "    <tr style=\"text-align: right;\">\n",
              "      <th></th>\n",
              "      <th>count</th>\n",
              "      <th>unique</th>\n",
              "      <th>top</th>\n",
              "      <th>freq</th>\n",
              "    </tr>\n",
              "  </thead>\n",
              "  <tbody>\n",
              "    <tr>\n",
              "      <th>Extracted_text</th>\n",
              "      <td>2525</td>\n",
              "      <td>2413</td>\n",
              "      <td></td>\n",
              "      <td>24</td>\n",
              "    </tr>\n",
              "    <tr>\n",
              "      <th>document_name</th>\n",
              "      <td>2525</td>\n",
              "      <td>5</td>\n",
              "      <td>Others</td>\n",
              "      <td>1224</td>\n",
              "    </tr>\n",
              "  </tbody>\n",
              "</table>\n",
              "</div>\n",
              "    <div class=\"colab-df-buttons\">\n",
              "\n",
              "  <div class=\"colab-df-container\">\n",
              "    <button class=\"colab-df-convert\" onclick=\"convertToInteractive('df-9d4d3422-6ec2-40c3-8877-6ff0c93fadc5')\"\n",
              "            title=\"Convert this dataframe to an interactive table.\"\n",
              "            style=\"display:none;\">\n",
              "\n",
              "  <svg xmlns=\"http://www.w3.org/2000/svg\" height=\"24px\" viewBox=\"0 -960 960 960\">\n",
              "    <path d=\"M120-120v-720h720v720H120Zm60-500h600v-160H180v160Zm220 220h160v-160H400v160Zm0 220h160v-160H400v160ZM180-400h160v-160H180v160Zm440 0h160v-160H620v160ZM180-180h160v-160H180v160Zm440 0h160v-160H620v160Z\"/>\n",
              "  </svg>\n",
              "    </button>\n",
              "\n",
              "  <style>\n",
              "    .colab-df-container {\n",
              "      display:flex;\n",
              "      gap: 12px;\n",
              "    }\n",
              "\n",
              "    .colab-df-convert {\n",
              "      background-color: #E8F0FE;\n",
              "      border: none;\n",
              "      border-radius: 50%;\n",
              "      cursor: pointer;\n",
              "      display: none;\n",
              "      fill: #1967D2;\n",
              "      height: 32px;\n",
              "      padding: 0 0 0 0;\n",
              "      width: 32px;\n",
              "    }\n",
              "\n",
              "    .colab-df-convert:hover {\n",
              "      background-color: #E2EBFA;\n",
              "      box-shadow: 0px 1px 2px rgba(60, 64, 67, 0.3), 0px 1px 3px 1px rgba(60, 64, 67, 0.15);\n",
              "      fill: #174EA6;\n",
              "    }\n",
              "\n",
              "    .colab-df-buttons div {\n",
              "      margin-bottom: 4px;\n",
              "    }\n",
              "\n",
              "    [theme=dark] .colab-df-convert {\n",
              "      background-color: #3B4455;\n",
              "      fill: #D2E3FC;\n",
              "    }\n",
              "\n",
              "    [theme=dark] .colab-df-convert:hover {\n",
              "      background-color: #434B5C;\n",
              "      box-shadow: 0px 1px 3px 1px rgba(0, 0, 0, 0.15);\n",
              "      filter: drop-shadow(0px 1px 2px rgba(0, 0, 0, 0.3));\n",
              "      fill: #FFFFFF;\n",
              "    }\n",
              "  </style>\n",
              "\n",
              "    <script>\n",
              "      const buttonEl =\n",
              "        document.querySelector('#df-9d4d3422-6ec2-40c3-8877-6ff0c93fadc5 button.colab-df-convert');\n",
              "      buttonEl.style.display =\n",
              "        google.colab.kernel.accessAllowed ? 'block' : 'none';\n",
              "\n",
              "      async function convertToInteractive(key) {\n",
              "        const element = document.querySelector('#df-9d4d3422-6ec2-40c3-8877-6ff0c93fadc5');\n",
              "        const dataTable =\n",
              "          await google.colab.kernel.invokeFunction('convertToInteractive',\n",
              "                                                    [key], {});\n",
              "        if (!dataTable) return;\n",
              "\n",
              "        const docLinkHtml = 'Like what you see? Visit the ' +\n",
              "          '<a target=\"_blank\" href=https://colab.research.google.com/notebooks/data_table.ipynb>data table notebook</a>'\n",
              "          + ' to learn more about interactive tables.';\n",
              "        element.innerHTML = '';\n",
              "        dataTable['output_type'] = 'display_data';\n",
              "        await google.colab.output.renderOutput(dataTable, element);\n",
              "        const docLink = document.createElement('div');\n",
              "        docLink.innerHTML = docLinkHtml;\n",
              "        element.appendChild(docLink);\n",
              "      }\n",
              "    </script>\n",
              "  </div>\n",
              "\n",
              "\n",
              "<div id=\"df-e3063edc-a5fb-444d-a178-97f463362bbd\">\n",
              "  <button class=\"colab-df-quickchart\" onclick=\"quickchart('df-e3063edc-a5fb-444d-a178-97f463362bbd')\"\n",
              "            title=\"Suggest charts\"\n",
              "            style=\"display:none;\">\n",
              "\n",
              "<svg xmlns=\"http://www.w3.org/2000/svg\" height=\"24px\"viewBox=\"0 0 24 24\"\n",
              "     width=\"24px\">\n",
              "    <g>\n",
              "        <path d=\"M19 3H5c-1.1 0-2 .9-2 2v14c0 1.1.9 2 2 2h14c1.1 0 2-.9 2-2V5c0-1.1-.9-2-2-2zM9 17H7v-7h2v7zm4 0h-2V7h2v10zm4 0h-2v-4h2v4z\"/>\n",
              "    </g>\n",
              "</svg>\n",
              "  </button>\n",
              "\n",
              "<style>\n",
              "  .colab-df-quickchart {\n",
              "      --bg-color: #E8F0FE;\n",
              "      --fill-color: #1967D2;\n",
              "      --hover-bg-color: #E2EBFA;\n",
              "      --hover-fill-color: #174EA6;\n",
              "      --disabled-fill-color: #AAA;\n",
              "      --disabled-bg-color: #DDD;\n",
              "  }\n",
              "\n",
              "  [theme=dark] .colab-df-quickchart {\n",
              "      --bg-color: #3B4455;\n",
              "      --fill-color: #D2E3FC;\n",
              "      --hover-bg-color: #434B5C;\n",
              "      --hover-fill-color: #FFFFFF;\n",
              "      --disabled-bg-color: #3B4455;\n",
              "      --disabled-fill-color: #666;\n",
              "  }\n",
              "\n",
              "  .colab-df-quickchart {\n",
              "    background-color: var(--bg-color);\n",
              "    border: none;\n",
              "    border-radius: 50%;\n",
              "    cursor: pointer;\n",
              "    display: none;\n",
              "    fill: var(--fill-color);\n",
              "    height: 32px;\n",
              "    padding: 0;\n",
              "    width: 32px;\n",
              "  }\n",
              "\n",
              "  .colab-df-quickchart:hover {\n",
              "    background-color: var(--hover-bg-color);\n",
              "    box-shadow: 0 1px 2px rgba(60, 64, 67, 0.3), 0 1px 3px 1px rgba(60, 64, 67, 0.15);\n",
              "    fill: var(--button-hover-fill-color);\n",
              "  }\n",
              "\n",
              "  .colab-df-quickchart-complete:disabled,\n",
              "  .colab-df-quickchart-complete:disabled:hover {\n",
              "    background-color: var(--disabled-bg-color);\n",
              "    fill: var(--disabled-fill-color);\n",
              "    box-shadow: none;\n",
              "  }\n",
              "\n",
              "  .colab-df-spinner {\n",
              "    border: 2px solid var(--fill-color);\n",
              "    border-color: transparent;\n",
              "    border-bottom-color: var(--fill-color);\n",
              "    animation:\n",
              "      spin 1s steps(1) infinite;\n",
              "  }\n",
              "\n",
              "  @keyframes spin {\n",
              "    0% {\n",
              "      border-color: transparent;\n",
              "      border-bottom-color: var(--fill-color);\n",
              "      border-left-color: var(--fill-color);\n",
              "    }\n",
              "    20% {\n",
              "      border-color: transparent;\n",
              "      border-left-color: var(--fill-color);\n",
              "      border-top-color: var(--fill-color);\n",
              "    }\n",
              "    30% {\n",
              "      border-color: transparent;\n",
              "      border-left-color: var(--fill-color);\n",
              "      border-top-color: var(--fill-color);\n",
              "      border-right-color: var(--fill-color);\n",
              "    }\n",
              "    40% {\n",
              "      border-color: transparent;\n",
              "      border-right-color: var(--fill-color);\n",
              "      border-top-color: var(--fill-color);\n",
              "    }\n",
              "    60% {\n",
              "      border-color: transparent;\n",
              "      border-right-color: var(--fill-color);\n",
              "    }\n",
              "    80% {\n",
              "      border-color: transparent;\n",
              "      border-right-color: var(--fill-color);\n",
              "      border-bottom-color: var(--fill-color);\n",
              "    }\n",
              "    90% {\n",
              "      border-color: transparent;\n",
              "      border-bottom-color: var(--fill-color);\n",
              "    }\n",
              "  }\n",
              "</style>\n",
              "\n",
              "  <script>\n",
              "    async function quickchart(key) {\n",
              "      const quickchartButtonEl =\n",
              "        document.querySelector('#' + key + ' button');\n",
              "      quickchartButtonEl.disabled = true;  // To prevent multiple clicks.\n",
              "      quickchartButtonEl.classList.add('colab-df-spinner');\n",
              "      try {\n",
              "        const charts = await google.colab.kernel.invokeFunction(\n",
              "            'suggestCharts', [key], {});\n",
              "      } catch (error) {\n",
              "        console.error('Error during call to suggestCharts:', error);\n",
              "      }\n",
              "      quickchartButtonEl.classList.remove('colab-df-spinner');\n",
              "      quickchartButtonEl.classList.add('colab-df-quickchart-complete');\n",
              "    }\n",
              "    (() => {\n",
              "      let quickchartButtonEl =\n",
              "        document.querySelector('#df-e3063edc-a5fb-444d-a178-97f463362bbd button');\n",
              "      quickchartButtonEl.style.display =\n",
              "        google.colab.kernel.accessAllowed ? 'block' : 'none';\n",
              "    })();\n",
              "  </script>\n",
              "</div>\n",
              "\n",
              "    </div>\n",
              "  </div>\n"
            ],
            "application/vnd.google.colaboratory.intrinsic+json": {
              "type": "dataframe",
              "summary": "{\n  \"name\": \"df\",\n  \"rows\": 2,\n  \"fields\": [\n    {\n      \"column\": \"count\",\n      \"properties\": {\n        \"dtype\": \"date\",\n        \"min\": \"2525\",\n        \"max\": \"2525\",\n        \"num_unique_values\": 1,\n        \"samples\": [\n          \"2525\"\n        ],\n        \"semantic_type\": \"\",\n        \"description\": \"\"\n      }\n    },\n    {\n      \"column\": \"unique\",\n      \"properties\": {\n        \"dtype\": \"date\",\n        \"min\": 5,\n        \"max\": 2413,\n        \"num_unique_values\": 2,\n        \"samples\": [\n          5\n        ],\n        \"semantic_type\": \"\",\n        \"description\": \"\"\n      }\n    },\n    {\n      \"column\": \"top\",\n      \"properties\": {\n        \"dtype\": \"string\",\n        \"num_unique_values\": 2,\n        \"samples\": [\n          \"Others\"\n        ],\n        \"semantic_type\": \"\",\n        \"description\": \"\"\n      }\n    },\n    {\n      \"column\": \"freq\",\n      \"properties\": {\n        \"dtype\": \"date\",\n        \"min\": \"24\",\n        \"max\": \"1224\",\n        \"num_unique_values\": 2,\n        \"samples\": [\n          \"1224\"\n        ],\n        \"semantic_type\": \"\",\n        \"description\": \"\"\n      }\n    }\n  ]\n}"
            }
          },
          "metadata": {},
          "execution_count": 11
        }
      ]
    },
    {
      "cell_type": "code",
      "source": [
        "df.isnull().sum()"
      ],
      "metadata": {
        "colab": {
          "base_uri": "https://localhost:8080/"
        },
        "id": "gco8PC2WYT9y",
        "outputId": "58632c65-dd61-448c-82f8-2963cc6fb869"
      },
      "execution_count": 12,
      "outputs": [
        {
          "output_type": "execute_result",
          "data": {
            "text/plain": [
              "Extracted_text    0\n",
              "document_name     0\n",
              "dtype: int64"
            ]
          },
          "metadata": {},
          "execution_count": 12
        }
      ]
    },
    {
      "cell_type": "code",
      "source": [
        "df.duplicated().sum()"
      ],
      "metadata": {
        "colab": {
          "base_uri": "https://localhost:8080/"
        },
        "id": "En3XBPGKYXJp",
        "outputId": "35cfdddd-a081-475c-9fd6-70abab83a663"
      },
      "execution_count": 47,
      "outputs": [
        {
          "output_type": "execute_result",
          "data": {
            "text/plain": [
              "110"
            ]
          },
          "metadata": {},
          "execution_count": 47
        }
      ]
    },
    {
      "cell_type": "code",
      "source": [
        "df.document_name.value_counts()"
      ],
      "metadata": {
        "colab": {
          "base_uri": "https://localhost:8080/"
        },
        "id": "yAHlKpSqYvY6",
        "outputId": "f7943abb-6e1e-44db-9f33-b58d5b04f1d1"
      },
      "execution_count": 14,
      "outputs": [
        {
          "output_type": "execute_result",
          "data": {
            "text/plain": [
              "document_name\n",
              "Others              1224\n",
              "Notes                690\n",
              "Income Statement     305\n",
              "Balance Sheets       270\n",
              "CashFlow              36\n",
              "Name: count, dtype: int64"
            ]
          },
          "metadata": {},
          "execution_count": 14
        }
      ]
    },
    {
      "cell_type": "markdown",
      "source": [
        "# **Data_Preprocessing**"
      ],
      "metadata": {
        "id": "QYGHCSAFtOO1"
      }
    },
    {
      "cell_type": "code",
      "source": [
        "df.drop_duplicates(inplace = True)"
      ],
      "metadata": {
        "id": "aZ3ZBiKhYoZh"
      },
      "execution_count": 48,
      "outputs": []
    },
    {
      "cell_type": "code",
      "source": [
        "df.columns"
      ],
      "metadata": {
        "colab": {
          "base_uri": "https://localhost:8080/"
        },
        "id": "N38LfwQChqd3",
        "outputId": "3af68a9f-42c2-4517-d65b-a533f2d350e4"
      },
      "execution_count": 53,
      "outputs": [
        {
          "output_type": "execute_result",
          "data": {
            "text/plain": [
              "Index(['Extracted_text', 'document_name'], dtype='object')"
            ]
          },
          "metadata": {},
          "execution_count": 53
        }
      ]
    },
    {
      "cell_type": "code",
      "source": [
        "df.document_name.value_counts()"
      ],
      "metadata": {
        "id": "xvZUx7niY3dj",
        "outputId": "bf061a04-7371-4f56-d253-acce8d375a85",
        "colab": {
          "base_uri": "https://localhost:8080/"
        }
      },
      "execution_count": 49,
      "outputs": [
        {
          "output_type": "execute_result",
          "data": {
            "text/plain": [
              "document_name\n",
              "Others              1138\n",
              "Notes                668\n",
              "Income Statement     305\n",
              "Balance Sheets       268\n",
              "CashFlow              36\n",
              "Name: count, dtype: int64"
            ]
          },
          "metadata": {},
          "execution_count": 49
        }
      ]
    },
    {
      "cell_type": "code",
      "source": [
        "# Apply the cleaning function to the Extracted_text column\n",
        "df['Extracted_text'] = df['Extracted_text'].apply(clean_text)"
      ],
      "metadata": {
        "id": "9Sr3o4335CoG"
      },
      "execution_count": 51,
      "outputs": []
    },
    {
      "cell_type": "code",
      "source": [
        "# stop words removal\n",
        "nltk.download('stopwords')\n",
        "stop_words = set(stopwords.words('english'))"
      ],
      "metadata": {
        "colab": {
          "base_uri": "https://localhost:8080/"
        },
        "id": "L_1RfMsxhGac",
        "outputId": "b2643b03-c3bf-4970-ae4b-f128c8496a69"
      },
      "execution_count": 60,
      "outputs": [
        {
          "output_type": "stream",
          "name": "stderr",
          "text": [
            "[nltk_data] Downloading package stopwords to /root/nltk_data...\n",
            "[nltk_data]   Unzipping corpora/stopwords.zip.\n"
          ]
        }
      ]
    },
    {
      "cell_type": "code",
      "source": [
        "# Tokenization and stemming\n",
        "ps = PorterStemmer()\n",
        "nltk.download('punkt')\n",
        "def preprocess_text(text):\n",
        "    words = word_tokenize(text)\n",
        "    words = [ps.stem(word) for word in words if word.lower() not in stop_words]\n",
        "    return ' '.join(words)\n",
        "\n",
        "df['Extracted_text'] = df['Extracted_text'].apply(preprocess_text)"
      ],
      "metadata": {
        "colab": {
          "base_uri": "https://localhost:8080/"
        },
        "id": "5kYWqmuLp0KH",
        "outputId": "6a612622-34ff-41b0-80fd-e7181ff38425"
      },
      "execution_count": 63,
      "outputs": [
        {
          "output_type": "stream",
          "name": "stderr",
          "text": [
            "[nltk_data] Downloading package punkt to /root/nltk_data...\n",
            "[nltk_data]   Unzipping tokenizers/punkt.zip.\n"
          ]
        }
      ]
    },
    {
      "cell_type": "code",
      "source": [
        "# Vectorization\n",
        "tfidf = TfidfVectorizer(max_features=150)\n",
        "X = tfidf.fit_transform(df['Extracted_text']).toarray()\n",
        "\n",
        "# Encode the target variable\n",
        "label_encoder = LabelEncoder()\n",
        "label_encoder.fit(df['document_name'])\n",
        "Y = label_encoder.transform(df['document_name'])"
      ],
      "metadata": {
        "id": "FLAFyZS9qjq5"
      },
      "execution_count": 74,
      "outputs": []
    },
    {
      "cell_type": "markdown",
      "source": [
        "# **Machine Learning**"
      ],
      "metadata": {
        "id": "QiMrVd1uvJLY"
      }
    },
    {
      "cell_type": "code",
      "source": [
        "# Splitting the data for training and testing sets\n",
        "x_train,x_test,y_train,y_test=train_test_split(X,Y,test_size=0.25, random_state=42)"
      ],
      "metadata": {
        "id": "t65QUH4yu_3B"
      },
      "execution_count": 77,
      "outputs": []
    },
    {
      "cell_type": "code",
      "source": [
        "#Model Selection and Training\n",
        "clf = LazyClassifier(verbose=0,ignore_warnings=True, custom_metric=None)\n",
        "models,predictions = clf.fit(x_train, x_test, y_train, y_test)\n",
        "print(models)"
      ],
      "metadata": {
        "colab": {
          "base_uri": "https://localhost:8080/"
        },
        "id": "3ra-d2PNvPsZ",
        "outputId": "0d19ce0c-6c37-4ff5-a732-adb3b781ed76"
      },
      "execution_count": 80,
      "outputs": [
        {
          "output_type": "stream",
          "name": "stderr",
          "text": [
            " 97%|█████████▋| 28/29 [00:22<00:01,  1.48s/it]"
          ]
        },
        {
          "output_type": "stream",
          "name": "stdout",
          "text": [
            "[LightGBM] [Info] Auto-choosing row-wise multi-threading, the overhead of testing was 0.003413 seconds.\n",
            "You can set `force_row_wise=true` to remove the overhead.\n",
            "And if memory is not enough, you can set `force_col_wise=true`.\n",
            "[LightGBM] [Info] Total Bins 11013\n",
            "[LightGBM] [Info] Number of data points in the train set: 1811, number of used features: 150\n",
            "[LightGBM] [Info] Start training from score -2.198330\n",
            "[LightGBM] [Info] Start training from score -4.457112\n",
            "[LightGBM] [Info] Start training from score -2.089988\n",
            "[LightGBM] [Info] Start training from score -1.263310\n",
            "[LightGBM] [Info] Start training from score -0.752875\n",
            "[LightGBM] [Warning] No further splits with positive gain, best gain: -inf\n",
            "[LightGBM] [Warning] No further splits with positive gain, best gain: -inf\n",
            "[LightGBM] [Warning] No further splits with positive gain, best gain: -inf\n",
            "[LightGBM] [Warning] No further splits with positive gain, best gain: -inf\n",
            "[LightGBM] [Warning] No further splits with positive gain, best gain: -inf\n",
            "[LightGBM] [Warning] No further splits with positive gain, best gain: -inf\n",
            "[LightGBM] [Warning] No further splits with positive gain, best gain: -inf\n",
            "[LightGBM] [Warning] No further splits with positive gain, best gain: -inf\n",
            "[LightGBM] [Warning] No further splits with positive gain, best gain: -inf\n",
            "[LightGBM] [Warning] No further splits with positive gain, best gain: -inf\n",
            "[LightGBM] [Warning] No further splits with positive gain, best gain: -inf\n",
            "[LightGBM] [Warning] No further splits with positive gain, best gain: -inf\n",
            "[LightGBM] [Warning] No further splits with positive gain, best gain: -inf\n",
            "[LightGBM] [Warning] No further splits with positive gain, best gain: -inf\n",
            "[LightGBM] [Warning] No further splits with positive gain, best gain: -inf\n",
            "[LightGBM] [Warning] No further splits with positive gain, best gain: -inf\n",
            "[LightGBM] [Warning] No further splits with positive gain, best gain: -inf\n",
            "[LightGBM] [Warning] No further splits with positive gain, best gain: -inf\n",
            "[LightGBM] [Warning] No further splits with positive gain, best gain: -inf\n",
            "[LightGBM] [Warning] No further splits with positive gain, best gain: -inf\n",
            "[LightGBM] [Warning] No further splits with positive gain, best gain: -inf\n",
            "[LightGBM] [Warning] No further splits with positive gain, best gain: -inf\n",
            "[LightGBM] [Warning] No further splits with positive gain, best gain: -inf\n",
            "[LightGBM] [Warning] No further splits with positive gain, best gain: -inf\n",
            "[LightGBM] [Warning] No further splits with positive gain, best gain: -inf\n",
            "[LightGBM] [Warning] No further splits with positive gain, best gain: -inf\n",
            "[LightGBM] [Warning] No further splits with positive gain, best gain: -inf\n",
            "[LightGBM] [Warning] No further splits with positive gain, best gain: -inf\n",
            "[LightGBM] [Warning] No further splits with positive gain, best gain: -inf\n",
            "[LightGBM] [Warning] No further splits with positive gain, best gain: -inf\n",
            "[LightGBM] [Warning] No further splits with positive gain, best gain: -inf\n",
            "[LightGBM] [Warning] No further splits with positive gain, best gain: -inf\n",
            "[LightGBM] [Warning] No further splits with positive gain, best gain: -inf\n",
            "[LightGBM] [Warning] No further splits with positive gain, best gain: -inf\n",
            "[LightGBM] [Warning] No further splits with positive gain, best gain: -inf\n",
            "[LightGBM] [Warning] No further splits with positive gain, best gain: -inf\n",
            "[LightGBM] [Warning] No further splits with positive gain, best gain: -inf\n",
            "[LightGBM] [Warning] No further splits with positive gain, best gain: -inf\n",
            "[LightGBM] [Warning] No further splits with positive gain, best gain: -inf\n",
            "[LightGBM] [Warning] No further splits with positive gain, best gain: -inf\n",
            "[LightGBM] [Warning] No further splits with positive gain, best gain: -inf\n",
            "[LightGBM] [Warning] No further splits with positive gain, best gain: -inf\n",
            "[LightGBM] [Warning] No further splits with positive gain, best gain: -inf\n",
            "[LightGBM] [Warning] No further splits with positive gain, best gain: -inf\n"
          ]
        },
        {
          "output_type": "stream",
          "name": "stderr",
          "text": [
            "100%|██████████| 29/29 [00:24<00:00,  1.18it/s]"
          ]
        },
        {
          "output_type": "stream",
          "name": "stdout",
          "text": [
            "[LightGBM] [Warning] No further splits with positive gain, best gain: -inf\n",
            "[LightGBM] [Warning] No further splits with positive gain, best gain: -inf\n",
            "[LightGBM] [Warning] No further splits with positive gain, best gain: -inf\n",
            "[LightGBM] [Warning] No further splits with positive gain, best gain: -inf\n",
            "[LightGBM] [Warning] No further splits with positive gain, best gain: -inf\n",
            "[LightGBM] [Warning] No further splits with positive gain, best gain: -inf\n",
            "[LightGBM] [Warning] No further splits with positive gain, best gain: -inf\n",
            "[LightGBM] [Warning] No further splits with positive gain, best gain: -inf\n",
            "[LightGBM] [Warning] No further splits with positive gain, best gain: -inf\n",
            "[LightGBM] [Warning] No further splits with positive gain, best gain: -inf\n",
            "[LightGBM] [Warning] No further splits with positive gain, best gain: -inf\n",
            "[LightGBM] [Warning] No further splits with positive gain, best gain: -inf\n",
            "                               Accuracy  Balanced Accuracy ROC AUC  F1 Score  \\\n",
            "Model                                                                          \n",
            "SVC                                0.92               0.94    None      0.92   \n",
            "LGBMClassifier                     0.91               0.93    None      0.91   \n",
            "ExtraTreesClassifier               0.93               0.93    None      0.93   \n",
            "XGBClassifier                      0.92               0.93    None      0.92   \n",
            "LinearDiscriminantAnalysis         0.90               0.92    None      0.90   \n",
            "RidgeClassifierCV                  0.89               0.92    None      0.89   \n",
            "RidgeClassifier                    0.89               0.92    None      0.89   \n",
            "LogisticRegression                 0.88               0.92    None      0.88   \n",
            "LinearSVC                          0.88               0.92    None      0.88   \n",
            "Perceptron                         0.88               0.92    None      0.88   \n",
            "CalibratedClassifierCV             0.89               0.92    None      0.89   \n",
            "KNeighborsClassifier               0.88               0.91    None      0.88   \n",
            "NearestCentroid                    0.86               0.91    None      0.86   \n",
            "RandomForestClassifier             0.91               0.91    None      0.91   \n",
            "SGDClassifier                      0.88               0.90    None      0.88   \n",
            "PassiveAggressiveClassifier        0.86               0.90    None      0.86   \n",
            "BernoulliNB                        0.88               0.90    None      0.88   \n",
            "BaggingClassifier                  0.89               0.89    None      0.89   \n",
            "ExtraTreeClassifier                0.81               0.83    None      0.81   \n",
            "DecisionTreeClassifier             0.85               0.80    None      0.85   \n",
            "GaussianNB                         0.66               0.76    None      0.68   \n",
            "QuadraticDiscriminantAnalysis      0.76               0.66    None      0.75   \n",
            "AdaBoostClassifier                 0.67               0.66    None      0.58   \n",
            "LabelPropagation                   0.44               0.45    None      0.50   \n",
            "LabelSpreading                     0.44               0.45    None      0.50   \n",
            "DummyClassifier                    0.47               0.20    None      0.30   \n",
            "\n",
            "                               Time Taken  \n",
            "Model                                      \n",
            "SVC                                  0.42  \n",
            "LGBMClassifier                       1.74  \n",
            "ExtraTreesClassifier                 0.47  \n",
            "XGBClassifier                        6.41  \n",
            "LinearDiscriminantAnalysis           0.12  \n",
            "RidgeClassifierCV                    0.13  \n",
            "RidgeClassifier                      0.06  \n",
            "LogisticRegression                   0.22  \n",
            "LinearSVC                            1.06  \n",
            "Perceptron                           0.11  \n",
            "CalibratedClassifierCV               8.68  \n",
            "KNeighborsClassifier                 0.09  \n",
            "NearestCentroid                      0.03  \n",
            "RandomForestClassifier               0.65  \n",
            "SGDClassifier                        0.24  \n",
            "PassiveAggressiveClassifier          0.16  \n",
            "BernoulliNB                          0.25  \n",
            "BaggingClassifier                    1.45  \n",
            "ExtraTreeClassifier                  0.03  \n",
            "DecisionTreeClassifier               0.10  \n",
            "GaussianNB                           0.04  \n",
            "QuadraticDiscriminantAnalysis        0.14  \n",
            "AdaBoostClassifier                   1.06  \n",
            "LabelPropagation                     0.29  \n",
            "LabelSpreading                       0.33  \n",
            "DummyClassifier                      0.03  \n"
          ]
        },
        {
          "output_type": "stream",
          "name": "stderr",
          "text": [
            "\n"
          ]
        }
      ]
    },
    {
      "cell_type": "code",
      "source": [
        "from lightgbm import LGBMClassifier\n",
        "LGB_model=LGBMClassifier().fit(x_train,y_train)\n",
        "y_pred_train = LGB_model.predict(x_train)\n",
        "y_pred_test = LGB_model.predict(x_test)\n",
        "\n",
        "accuracy_score(y_train, y_pred_train), accuracy_score(y_test, y_pred_test)"
      ],
      "metadata": {
        "colab": {
          "base_uri": "https://localhost:8080/"
        },
        "id": "zjMs0XxYznGo",
        "outputId": "f617ec9a-cea3-4b4f-b52f-c7ace3c5652a"
      },
      "execution_count": 85,
      "outputs": [
        {
          "output_type": "stream",
          "name": "stdout",
          "text": [
            "[LightGBM] [Info] Auto-choosing row-wise multi-threading, the overhead of testing was 0.018331 seconds.\n",
            "You can set `force_row_wise=true` to remove the overhead.\n",
            "And if memory is not enough, you can set `force_col_wise=true`.\n",
            "[LightGBM] [Info] Total Bins 10837\n",
            "[LightGBM] [Info] Number of data points in the train set: 1811, number of used features: 150\n",
            "[LightGBM] [Info] Start training from score -2.198330\n",
            "[LightGBM] [Info] Start training from score -4.457112\n",
            "[LightGBM] [Info] Start training from score -2.089988\n",
            "[LightGBM] [Info] Start training from score -1.263310\n",
            "[LightGBM] [Info] Start training from score -0.752875\n",
            "[LightGBM] [Warning] No further splits with positive gain, best gain: -inf\n",
            "[LightGBM] [Warning] No further splits with positive gain, best gain: -inf\n",
            "[LightGBM] [Warning] No further splits with positive gain, best gain: -inf\n",
            "[LightGBM] [Warning] No further splits with positive gain, best gain: -inf\n",
            "[LightGBM] [Warning] No further splits with positive gain, best gain: -inf\n",
            "[LightGBM] [Warning] No further splits with positive gain, best gain: -inf\n",
            "[LightGBM] [Warning] No further splits with positive gain, best gain: -inf\n",
            "[LightGBM] [Warning] No further splits with positive gain, best gain: -inf\n",
            "[LightGBM] [Warning] No further splits with positive gain, best gain: -inf\n",
            "[LightGBM] [Warning] No further splits with positive gain, best gain: -inf\n",
            "[LightGBM] [Warning] No further splits with positive gain, best gain: -inf\n",
            "[LightGBM] [Warning] No further splits with positive gain, best gain: -inf\n",
            "[LightGBM] [Warning] No further splits with positive gain, best gain: -inf\n",
            "[LightGBM] [Warning] No further splits with positive gain, best gain: -inf\n",
            "[LightGBM] [Warning] No further splits with positive gain, best gain: -inf\n",
            "[LightGBM] [Warning] No further splits with positive gain, best gain: -inf\n",
            "[LightGBM] [Warning] No further splits with positive gain, best gain: -inf\n",
            "[LightGBM] [Warning] No further splits with positive gain, best gain: -inf\n",
            "[LightGBM] [Warning] No further splits with positive gain, best gain: -inf\n",
            "[LightGBM] [Warning] No further splits with positive gain, best gain: -inf\n",
            "[LightGBM] [Warning] No further splits with positive gain, best gain: -inf\n",
            "[LightGBM] [Warning] No further splits with positive gain, best gain: -inf\n",
            "[LightGBM] [Warning] No further splits with positive gain, best gain: -inf\n",
            "[LightGBM] [Warning] No further splits with positive gain, best gain: -inf\n",
            "[LightGBM] [Warning] No further splits with positive gain, best gain: -inf\n",
            "[LightGBM] [Warning] No further splits with positive gain, best gain: -inf\n",
            "[LightGBM] [Warning] No further splits with positive gain, best gain: -inf\n",
            "[LightGBM] [Warning] No further splits with positive gain, best gain: -inf\n",
            "[LightGBM] [Warning] No further splits with positive gain, best gain: -inf\n",
            "[LightGBM] [Warning] No further splits with positive gain, best gain: -inf\n",
            "[LightGBM] [Warning] No further splits with positive gain, best gain: -inf\n",
            "[LightGBM] [Warning] No further splits with positive gain, best gain: -inf\n",
            "[LightGBM] [Warning] No further splits with positive gain, best gain: -inf\n",
            "[LightGBM] [Warning] No further splits with positive gain, best gain: -inf\n",
            "[LightGBM] [Warning] No further splits with positive gain, best gain: -inf\n",
            "[LightGBM] [Warning] No further splits with positive gain, best gain: -inf\n",
            "[LightGBM] [Warning] No further splits with positive gain, best gain: -inf\n",
            "[LightGBM] [Warning] No further splits with positive gain, best gain: -inf\n",
            "[LightGBM] [Warning] No further splits with positive gain, best gain: -inf\n",
            "[LightGBM] [Warning] No further splits with positive gain, best gain: -inf\n",
            "[LightGBM] [Warning] No further splits with positive gain, best gain: -inf\n",
            "[LightGBM] [Warning] No further splits with positive gain, best gain: -inf\n",
            "[LightGBM] [Warning] No further splits with positive gain, best gain: -inf\n",
            "[LightGBM] [Warning] No further splits with positive gain, best gain: -inf\n",
            "[LightGBM] [Warning] No further splits with positive gain, best gain: -inf\n",
            "[LightGBM] [Warning] No further splits with positive gain, best gain: -inf\n",
            "[LightGBM] [Warning] No further splits with positive gain, best gain: -inf\n",
            "[LightGBM] [Warning] No further splits with positive gain, best gain: -inf\n",
            "[LightGBM] [Warning] No further splits with positive gain, best gain: -inf\n",
            "[LightGBM] [Warning] No further splits with positive gain, best gain: -inf\n",
            "[LightGBM] [Warning] No further splits with positive gain, best gain: -inf\n",
            "[LightGBM] [Warning] No further splits with positive gain, best gain: -inf\n",
            "[LightGBM] [Warning] No further splits with positive gain, best gain: -inf\n",
            "[LightGBM] [Warning] No further splits with positive gain, best gain: -inf\n",
            "[LightGBM] [Warning] No further splits with positive gain, best gain: -inf\n",
            "[LightGBM] [Warning] No further splits with positive gain, best gain: -inf\n",
            "[LightGBM] [Warning] No further splits with positive gain, best gain: -inf\n"
          ]
        },
        {
          "output_type": "execute_result",
          "data": {
            "text/plain": [
              "(0.9939260077305356, 0.9205298013245033)"
            ]
          },
          "metadata": {},
          "execution_count": 85
        }
      ]
    },
    {
      "cell_type": "code",
      "source": [
        "from sklearn.ensemble import ExtraTreesClassifier\n",
        "ETC_model=ExtraTreesClassifier().fit(x_train,y_train)\n",
        "y_pred_train = ETC_model.predict(x_train)\n",
        "y_pred_test = ETC_model.predict(x_test)\n",
        "\n",
        "accuracy_score(y_train, y_pred_train), accuracy_score(y_test, y_pred_test)"
      ],
      "metadata": {
        "colab": {
          "base_uri": "https://localhost:8080/"
        },
        "id": "KtYLSBuq0V9B",
        "outputId": "aed75200-2df3-40ea-e503-b73761625d4b"
      },
      "execution_count": 86,
      "outputs": [
        {
          "output_type": "execute_result",
          "data": {
            "text/plain": [
              "(0.9939260077305356, 0.9288079470198676)"
            ]
          },
          "metadata": {},
          "execution_count": 86
        }
      ]
    },
    {
      "cell_type": "code",
      "source": [
        "from sklearn.svm import SVC\n",
        "SVC_model=SVC().fit(x_train,y_train)\n",
        "y_pred_train = SVC_model.predict(x_train)\n",
        "y_pred_test = SVC_model.predict(x_test)\n",
        "\n",
        "accuracy_score(y_train, y_pred_train), accuracy_score(y_test, y_pred_test)"
      ],
      "metadata": {
        "colab": {
          "base_uri": "https://localhost:8080/"
        },
        "id": "q4MuO7aOwweI",
        "outputId": "b9518d6c-3065-4926-d4d7-f776a9536aaf"
      },
      "execution_count": 87,
      "outputs": [
        {
          "output_type": "execute_result",
          "data": {
            "text/plain": [
              "(0.9685256764218664, 0.9205298013245033)"
            ]
          },
          "metadata": {},
          "execution_count": 87
        }
      ]
    },
    {
      "cell_type": "markdown",
      "source": [
        "# **Evaluation**"
      ],
      "metadata": {
        "id": "SJXasJWW03Ih"
      }
    },
    {
      "cell_type": "code",
      "source": [],
      "metadata": {
        "id": "KAEnR3rm01Dy"
      },
      "execution_count": null,
      "outputs": []
    },
    {
      "cell_type": "markdown",
      "source": [
        "# end"
      ],
      "metadata": {
        "id": "HoGGWQzno0IK"
      }
    }
  ]
}